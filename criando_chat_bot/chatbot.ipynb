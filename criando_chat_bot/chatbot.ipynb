{
 "cells": [
  {
   "cell_type": "code",
   "execution_count": 8,
   "id": "a280c7a4",
   "metadata": {},
   "outputs": [],
   "source": [
    "\n",
    "import os\n",
    "from dotenv import load_dotenv\n",
    "import google.generativeai as genai"
   ]
  },
  {
   "cell_type": "code",
   "execution_count": 9,
   "id": "5bcbb6ee",
   "metadata": {},
   "outputs": [],
   "source": [
    "load_dotenv()\n",
    "API_KEY = os.getenv(\"API_KEY\")"
   ]
  },
  {
   "cell_type": "code",
   "execution_count": 10,
   "id": "908770d7",
   "metadata": {},
   "outputs": [],
   "source": [
    "genai.configure(api_key=API_KEY)"
   ]
  },
  {
   "cell_type": "code",
   "execution_count": 11,
   "id": "da4996be",
   "metadata": {},
   "outputs": [
    {
     "name": "stdout",
     "output_type": "stream",
     "text": [
      "models/gemini-1.5-pro-latest\n",
      "models/gemini-1.5-pro-002\n",
      "models/gemini-1.5-pro\n",
      "models/gemini-1.5-flash-latest\n",
      "models/gemini-1.5-flash\n",
      "models/gemini-1.5-flash-002\n",
      "models/gemini-1.5-flash-8b\n",
      "models/gemini-1.5-flash-8b-001\n",
      "models/gemini-1.5-flash-8b-latest\n",
      "models/gemini-2.5-pro-preview-03-25\n",
      "models/gemini-2.5-flash-preview-05-20\n",
      "models/gemini-2.5-flash\n",
      "models/gemini-2.5-flash-lite-preview-06-17\n",
      "models/gemini-2.5-pro-preview-05-06\n",
      "models/gemini-2.5-pro-preview-06-05\n",
      "models/gemini-2.5-pro\n",
      "models/gemini-2.0-flash-exp\n",
      "models/gemini-2.0-flash\n",
      "models/gemini-2.0-flash-001\n",
      "models/gemini-2.0-flash-exp-image-generation\n",
      "models/gemini-2.0-flash-lite-001\n",
      "models/gemini-2.0-flash-lite\n",
      "models/gemini-2.0-flash-preview-image-generation\n",
      "models/gemini-2.0-flash-lite-preview-02-05\n",
      "models/gemini-2.0-flash-lite-preview\n",
      "models/gemini-2.0-pro-exp\n",
      "models/gemini-2.0-pro-exp-02-05\n",
      "models/gemini-exp-1206\n",
      "models/gemini-2.0-flash-thinking-exp-01-21\n",
      "models/gemini-2.0-flash-thinking-exp\n",
      "models/gemini-2.0-flash-thinking-exp-1219\n",
      "models/gemini-2.5-flash-preview-tts\n",
      "models/gemini-2.5-pro-preview-tts\n",
      "models/learnlm-2.0-flash-experimental\n",
      "models/gemma-3-1b-it\n",
      "models/gemma-3-4b-it\n",
      "models/gemma-3-12b-it\n",
      "models/gemma-3-27b-it\n",
      "models/gemma-3n-e4b-it\n",
      "models/gemma-3n-e2b-it\n",
      "models/gemini-2.5-flash-lite\n",
      "models/gemini-2.5-flash-image-preview\n"
     ]
    }
   ],
   "source": [
    "for model in genai.list_models():\n",
    "    if 'generateContent' in model.supported_generation_methods:\n",
    "        print(model.name)"
   ]
  },
  {
   "cell_type": "code",
   "execution_count": 12,
   "id": "46ff78f2",
   "metadata": {},
   "outputs": [],
   "source": [
    "model = genai.GenerativeModel('gemini-1.5-flash')"
   ]
  },
  {
   "cell_type": "code",
   "execution_count": 15,
   "id": "78dc3dab",
   "metadata": {},
   "outputs": [
    {
     "data": {
      "text/plain": [
       "'Se hoje é ontem, então amanhã é hoje.\\n'"
      ]
     },
     "execution_count": 15,
     "metadata": {},
     "output_type": "execute_result"
    }
   ],
   "source": [
    "resposta = model.generate_content('Se hoje é ontem, que dia é amanhã')\n",
    "resposta.text"
   ]
  },
  {
   "cell_type": "code",
   "execution_count": 16,
   "id": "67143914",
   "metadata": {},
   "outputs": [
    {
     "data": {
      "text/plain": [
       "'Hoje é 27 de outubro de 2023.\\n'"
      ]
     },
     "execution_count": 16,
     "metadata": {},
     "output_type": "execute_result"
    }
   ],
   "source": [
    "resposta = model.generate_content('É hoje:')\n",
    "resposta.text"
   ]
  },
  {
   "cell_type": "code",
   "execution_count": null,
   "id": "a918f72b",
   "metadata": {},
   "outputs": [],
   "source": []
  },
  {
   "cell_type": "code",
   "execution_count": 17,
   "id": "fb4f8bab",
   "metadata": {},
   "outputs": [
    {
     "name": "stdout",
     "output_type": "stream",
     "text": [
      "Não podemos medir o volume de Júpiter diretamente com uma régua ou um recipiente de medição, como faríamos com um objeto na Terra.  Em vez disso, usamos cálculos baseados em observações e modelos matemáticos.  A forma mais precisa de calcular o volume de Júpiter é aproximá-lo como uma esfera (embora não seja perfeitamente esférico, sua forma é bem próxima de uma esfera). A fórmula para o volume de uma esfera é:\n",
      "\n",
      "**V = (4/3)πr³**\n",
      "\n",
      "Onde:\n",
      "\n",
      "* **V** é o volume\n",
      "* **π** (pi) é aproximadamente 3.14159\n",
      "* **r** é o raio do planeta\n",
      "\n",
      "Para calcular o volume de Júpiter, precisamos do seu raio médio.  O raio médio de Júpiter é determinado por observações astronômicas, principalmente por meio de medições de sua distância até a Terra e seu tamanho angular aparente no céu. Esses dados são refinados com informações de sondas espaciais que passaram por Júpiter, fornecendo medidas mais precisas.  O valor atualmente aceito para o raio médio de Júpiter é de aproximadamente **69.911 km**.\n",
      "\n",
      "Substituindo esse valor na fórmula:\n",
      "\n",
      "V = (4/3) * π * (69.911 km)³ \n",
      "V ≈ 1.431 × 10¹⁵ km³\n",
      "\n",
      "Portanto, o volume de Júpiter é aproximadamente **1.431 × 10¹⁵ quilômetros cúbicos**.  É importante lembrar que este é um valor aproximado, e pequenas variações podem ocorrer dependendo da fonte de dados do raio utilizado.\n",
      "\n",
      "A quantidade de energia que o Sol libera a cada segundo é chamada de **luminosidade solar**.  Não é uma quantidade facilmente medida diretamente, mas é calculada a partir de observações da quantidade de energia que chega à Terra.  A luminosidade solar é aproximadamente:\n",
      "\n",
      "**3.828 × 10²⁶ watts**\n",
      "\n",
      "Isso significa que o Sol libera 3.828 x 10²⁶ joules de energia a cada segundo. Para se ter uma ideia da magnitude desse número:\n",
      "\n",
      "* É uma quantidade imensa de energia.\n",
      "* É a energia equivalente a bilhões de bombas de hidrogênio explodindo a cada segundo.\n",
      "* Essa energia é produzida pela fusão nuclear de hidrogênio em hélio no núcleo do Sol.\n",
      "\n",
      "\n",
      "A luminosidade solar não é constante, sofre pequenas variações ao longo do tempo, mas a média apresentada acima é uma boa aproximação.  A medição precisa envolve complexos cálculos considerando a distância do Sol à Terra e a absorção da energia pela atmosfera terrestre.\n",
      "\n"
     ]
    }
   ],
   "source": [
    "chat = model.start_chat(history=[])\n",
    "prompt = input(\"Esperando o prompt: \")\n",
    "while prompt != \"sair\":\n",
    "    response = chat.send_message(prompt)\n",
    "    print(response.text)\n",
    "    prompt = input(\"esperando o prompt: \")"
   ]
  }
 ],
 "metadata": {
  "kernelspec": {
   "display_name": ".venv",
   "language": "python",
   "name": "python3"
  },
  "language_info": {
   "codemirror_mode": {
    "name": "ipython",
    "version": 3
   },
   "file_extension": ".py",
   "mimetype": "text/x-python",
   "name": "python",
   "nbconvert_exporter": "python",
   "pygments_lexer": "ipython3",
   "version": "3.10.0"
  }
 },
 "nbformat": 4,
 "nbformat_minor": 5
}
