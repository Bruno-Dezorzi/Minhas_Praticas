{
 "cells": [
  {
   "cell_type": "code",
   "execution_count": 8,
   "id": "668e2478",
   "metadata": {},
   "outputs": [],
   "source": [
    "import torch\n",
    "import numpy as np"
   ]
  },
  {
   "cell_type": "markdown",
   "id": "c14ec6de",
   "metadata": {},
   "source": [
    "# Tipos de Tensores"
   ]
  },
  {
   "cell_type": "code",
   "execution_count": 7,
   "id": "346f2f65",
   "metadata": {},
   "outputs": [
    {
     "name": "stdout",
     "output_type": "stream",
     "text": [
      "<class 'list'>\n",
      "torch.float32\n",
      "<class 'torch.Tensor'>\n",
      "torch.float32\n",
      "<class 'torch.Tensor'>\n",
      "torch.float64\n",
      "<class 'torch.Tensor'>\n",
      "torch.int64\n",
      "<class 'torch.Tensor'>\n"
     ]
    }
   ],
   "source": [
    "lista = [\n",
    "    [1,2,3],\n",
    "    [4,5,6]\n",
    "]\n",
    "\n",
    "print(type(lista))\n",
    "\n",
    "tns = torch.Tensor(lista)\n",
    "print(tns.dtype)\n",
    "print(type(tns))\n",
    "\n",
    "tns = torch.FloatTensor(lista)\n",
    "print(tns.dtype)\n",
    "print(type(tns))\n",
    "\n",
    "tns = torch.DoubleTensor(lista)\n",
    "print(tns.dtype)\n",
    "print(type(tns))\n",
    "\n",
    "tns = torch.LongTensor(lista)\n",
    "print(tns.dtype)\n",
    "print(type(tns))"
   ]
  },
  {
   "cell_type": "markdown",
   "id": "87f06e7c",
   "metadata": {},
   "source": [
    "# Tensores a partir de arrays numpy"
   ]
  },
  {
   "cell_type": "code",
   "execution_count": 18,
   "id": "a4756669",
   "metadata": {},
   "outputs": [
    {
     "name": "stdout",
     "output_type": "stream",
     "text": [
      "<class 'numpy.ndarray'>\n",
      "int64\n",
      "<class 'torch.Tensor'>\n",
      "torch.int64\n",
      "[[0 1 1 0]\n",
      " [0 0 0 1]\n",
      " [0 0 1 0]]\n",
      "tensor([[0, 1, 1, 0],\n",
      "        [0, 0, 0, 1],\n",
      "        [0, 0, 1, 0]])\n"
     ]
    }
   ],
   "source": [
    "arr = np.random.rand(3,4) * 2\n",
    "print(type(arr))\n",
    "arr = arr.astype(int)\n",
    "print(arr.dtype)\n",
    "\n",
    "tns = torch.from_numpy(arr)\n",
    "print(type(tns))\n",
    "print(tns.dtype)\n",
    "\n",
    "print(arr)\n",
    "print(tns)"
   ]
  },
  {
   "cell_type": "markdown",
   "id": "1c3767f0",
   "metadata": {},
   "source": [
    "# Tensores inicializados"
   ]
  },
  {
   "cell_type": "code",
   "execution_count": 66,
   "id": "a576242b",
   "metadata": {},
   "outputs": [
    {
     "name": "stdout",
     "output_type": "stream",
     "text": [
      "tensor([[1., 1.],\n",
      "        [1., 1.]])\n",
      "torch.float32\n",
      "tensor([[0., 0.],\n",
      "        [0., 0.]])\n",
      "torch.float32\n",
      "tensor([[0.0346, 0.9771, 0.8530],\n",
      "        [0.6843, 0.4224, 0.7693],\n",
      "        [0.6986, 0.4711, 0.3842]])\n",
      "torch.float32\n"
     ]
    }
   ],
   "source": [
    "tns1 = torch.ones(2,2)\n",
    "tns2 = torch.zeros(2,2)\n",
    "tns3 = torch.rand(3,3)\n",
    "\n",
    "print(tns1)\n",
    "print(tns1.dtype)\n",
    "print(tns2)\n",
    "print(tns2.dtype)\n",
    "print(tns3)\n",
    "print(tns3.dtype)"
   ]
  },
  {
   "cell_type": "code",
   "execution_count": 67,
   "id": "3bb043b8",
   "metadata": {},
   "outputs": [
    {
     "name": "stdout",
     "output_type": "stream",
     "text": [
      "[[0.03455573 0.97706366 0.85304236]\n",
      " [0.68428695 0.42239445 0.7692526 ]\n",
      " [0.69855344 0.47108376 0.38424736]]\n",
      "float32\n"
     ]
    }
   ],
   "source": [
    "arr = tns3.data.numpy()\n",
    "print(arr)\n",
    "print(arr.dtype)"
   ]
  },
  {
   "cell_type": "markdown",
   "id": "95cb650b",
   "metadata": {},
   "source": [
    "# Indexação"
   ]
  },
  {
   "cell_type": "code",
   "execution_count": 68,
   "id": "72c694dd",
   "metadata": {},
   "outputs": [
    {
     "name": "stdout",
     "output_type": "stream",
     "text": [
      "tensor([[0.0346, 0.9771, 0.8530],\n",
      "        [0.6843, 0.4224, 0.7693],\n",
      "        [0.6986, 0.4711, 0.3842]])\n",
      "\n",
      "tensor([[  0.0346, -10.0000,   0.8530],\n",
      "        [  0.6843,   0.4224,   0.7693],\n",
      "        [  0.6986,   0.4711,   0.3842]])\n",
      "\n",
      "tensor([[  2.0000, -10.0000,   0.8530],\n",
      "        [  2.0000,   0.4224,   0.7693],\n",
      "        [  2.0000,   0.4711,   0.3842]])\n"
     ]
    }
   ],
   "source": [
    "print(tns3)\n",
    "\n",
    "print('')\n",
    "\n",
    "tns3[0,1] = -10\n",
    "\n",
    "print(tns3)\n",
    "\n",
    "print('')\n",
    "\n",
    "tns3[:,0] = 2\n",
    "\n",
    "print(tns3)"
   ]
  },
  {
   "cell_type": "markdown",
   "id": "93566129",
   "metadata": {},
   "source": [
    "# Operações com tensores"
   ]
  },
  {
   "cell_type": "code",
   "execution_count": 69,
   "id": "c698ded8",
   "metadata": {},
   "outputs": [
    {
     "name": "stdout",
     "output_type": "stream",
     "text": [
      "tensor([[1., 1.],\n",
      "        [1., 1.]])\n",
      "tensor([[  2.0000, -10.0000,   0.8530],\n",
      "        [  2.0000,   0.4224,   0.7693],\n",
      "        [  2.0000,   0.4711,   0.3842]])\n",
      "tensor([[  2.0000, -10.0000],\n",
      "        [  2.0000,   0.4224]])\n"
     ]
    }
   ],
   "source": [
    "print(tns1)\n",
    "print(tns3)\n",
    "\n",
    "tns3 = tns3[:2,:2]\n",
    "\n",
    "print(tns3)"
   ]
  },
  {
   "cell_type": "code",
   "execution_count": 73,
   "id": "cf428084",
   "metadata": {},
   "outputs": [
    {
     "name": "stdout",
     "output_type": "stream",
     "text": [
      "tensor([[ 3.0000, -9.0000],\n",
      "        [ 3.0000,  1.4224]])\n",
      "\n",
      "tensor([[-1.0000, 11.0000],\n",
      "        [-1.0000,  0.5776]])\n",
      "\n",
      "tensor([[  2.0000, -10.0000],\n",
      "        [  2.0000,   0.4224]])\n",
      "\n",
      "tensor([[ 0.5000, -0.1000],\n",
      "        [ 0.5000,  2.3675]])\n"
     ]
    },
    {
     "data": {
      "text/plain": [
       "\"print('')\\nprint(tns1 ^ tns3)\\nprint('')\\nprint(tns1 ** tns3)\""
      ]
     },
     "execution_count": 73,
     "metadata": {},
     "output_type": "execute_result"
    }
   ],
   "source": [
    "print(tns1 + tns3)\n",
    "print('')\n",
    "print(tns1 - tns3)\n",
    "print('')\n",
    "print(tns1 * tns3)\n",
    "print('')\n",
    "print(tns1 / tns3)\n",
    "'''print('')\n",
    "print(tns1 ^ tns3)\n",
    "print('')\n",
    "print(tns1 ** tns3)'''"
   ]
  },
  {
   "cell_type": "markdown",
   "id": "ebb3abeb",
   "metadata": {},
   "source": [
    "# .size , .view e .shape"
   ]
  },
  {
   "cell_type": "code",
   "execution_count": 91,
   "id": "2f761675",
   "metadata": {},
   "outputs": [
    {
     "name": "stdout",
     "output_type": "stream",
     "text": [
      "tensor([[[-2.4113, -1.9965, -1.0884],\n",
      "         [ 0.0047,  0.2964,  0.9604]],\n",
      "\n",
      "        [[ 0.4261, -0.6339, -0.1716],\n",
      "         [ 0.5639,  0.1863,  0.5452]]])\n",
      "\n",
      "torch.Size([2, 2, 3])\n",
      "\n",
      "tensor([-2.4113, -1.9965, -1.0884,  0.0047,  0.2964,  0.9604,  0.4261, -0.6339,\n",
      "        -0.1716,  0.5639,  0.1863,  0.5452])\n",
      "\n",
      "torch.Size([2, 2, 3])\n"
     ]
    }
   ],
   "source": [
    "tns = torch.randn(2,2,3)\n",
    "print(tns)\n",
    "\n",
    "print('')\n",
    "\n",
    "print(tns.size())\n",
    "\n",
    "print('')\n",
    "\n",
    "print(tns.view(12))\n",
    "\n",
    "print('')\n",
    "\n",
    "print(tns.shape)"
   ]
  },
  {
   "cell_type": "markdown",
   "id": "5aa612ef",
   "metadata": {},
   "source": [
    "# GPU Cast"
   ]
  },
  {
   "cell_type": "code",
   "execution_count": 92,
   "id": "c2d27f82",
   "metadata": {},
   "outputs": [
    {
     "name": "stdout",
     "output_type": "stream",
     "text": [
      "cuda\n"
     ]
    }
   ],
   "source": [
    "if torch.cuda.is_available():\n",
    "    device = torch.device('cuda')\n",
    "else:\n",
    "    device = torch.device('cpu')\n",
    "    \n",
    "print(device)\n",
    "    "
   ]
  },
  {
   "cell_type": "code",
   "execution_count": 93,
   "id": "c74255c2",
   "metadata": {},
   "outputs": [
    {
     "name": "stdout",
     "output_type": "stream",
     "text": [
      "tensor([[[-2.4113, -1.9965, -1.0884],\n",
      "         [ 0.0047,  0.2964,  0.9604]],\n",
      "\n",
      "        [[ 0.4261, -0.6339, -0.1716],\n",
      "         [ 0.5639,  0.1863,  0.5452]]], device='cuda:0')\n"
     ]
    }
   ],
   "source": [
    "tns = tns.to(device)\n",
    "print(tns)"
   ]
  }
 ],
 "metadata": {
  "kernelspec": {
   "display_name": ".venv",
   "language": "python",
   "name": "python3"
  },
  "language_info": {
   "codemirror_mode": {
    "name": "ipython",
    "version": 3
   },
   "file_extension": ".py",
   "mimetype": "text/x-python",
   "name": "python",
   "nbconvert_exporter": "python",
   "pygments_lexer": "ipython3",
   "version": "3.10.0"
  }
 },
 "nbformat": 4,
 "nbformat_minor": 5
}
