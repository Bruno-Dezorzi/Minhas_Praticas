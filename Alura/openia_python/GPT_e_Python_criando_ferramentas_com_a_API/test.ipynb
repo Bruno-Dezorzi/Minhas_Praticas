{
 "cells": [
  {
   "cell_type": "code",
   "execution_count": 1,
   "id": "7fa7200e",
   "metadata": {},
   "outputs": [],
   "source": [
    "import os\n",
    "import psycopg2\n",
    "from openai import OpenAI\n",
    "from dotenv import load_dotenv"
   ]
  },
  {
   "cell_type": "code",
   "execution_count": 2,
   "id": "d8ab1941",
   "metadata": {},
   "outputs": [],
   "source": [
    "load_dotenv()\n",
    "\n",
    "# --- CONFIG OPENAI ---\n",
    "OPENAI_API_KEY = os.getenv(\"OPENAI_API_KEY\")\n",
    "client = OpenAI(api_key=OPENAI_API_KEY)\n",
    "\n",
    "# --- CONFIG BANCO ---\n",
    "DB_NAME = \"reparai\"\n",
    "DB_USER = \"postgres\"\n",
    "DB_PASSWORD = \"123456\"\n",
    "DB_HOST = \"localhost\"\n",
    "DB_PORT = \"5432\""
   ]
  },
  {
   "cell_type": "code",
   "execution_count": null,
   "id": "2319ca14",
   "metadata": {},
   "outputs": [],
   "source": [
    "# --- FUNÇÃO PARA CONECTAR AO BANCO ---\n",
    "def conectar_banco():\n",
    "    conn = psycopg2.connect(\n",
    "        dbname=DB_NAME,\n",
    "        user=DB_USER,\n",
    "        password=DB_PASSWORD,\n",
    "        host=DB_HOST,\n",
    "        port=DB_PORT\n",
    "    )\n",
    "    return conn\n",
    "\n",
    "# --- FUNÇÃO PARA BUSCAR PROFISSIONAIS FILTRADOS ---\n",
    "def buscar_profissionais(servico: str, limite: int = 5):\n",
    "    query = \"\"\"\n",
    "        SELECT \n",
    "            p.nome AS nome_prestador,\n",
    "            e.nome AS especialidade,\n",
    "            pr.nota_media,\n",
    "            en.bairro,\n",
    "            en.cidade\n",
    "        FROM dim_prestador pr\n",
    "        JOIN dim_pessoa p ON pr.id_pessoa = p.id_pessoa\n",
    "        JOIN dim_especialidade_prestador ep ON pr.id_prestador = ep.id_prestador\n",
    "        JOIN dim_especialidade e ON ep.id_especialidade = e.id_especialidade\n",
    "        JOIN dim_endereco en ON p.id_endereco = en.id_endereco\n",
    "        WHERE e.nome ILIKE %s\n",
    "        ORDER BY pr.nota_media DESC\n",
    "        LIMIT %s;\n",
    "    \"\"\"\n",
    "    conn = conectar_banco()\n",
    "    cur = conn.cursor()\n",
    "    cur.execute(query, (f\"%{servico}%\", limite))\n",
    "    dados = cur.fetchall()\n",
    "    colunas = [desc[0] for desc in cur.description]\n",
    "    cur.close()\n",
    "    conn.close()\n",
    "    return [dict(zip(colunas, row)) for row in dados]\n",
    "\n",
    "# --- FUNÇÃO PARA CONSULTAR O LLM ---\n",
    "def consultar_llm(servico, profissionais):\n",
    "    prompt = f\"\"\"\n",
    "    Você é um assistente que recomenda prestadores de serviços.\n",
    "    Você deve achar o serviço mais compatível de acordo com que o usuário pedir e o profissional do serviço mais perto, o usuário vai pedir algo indicando o serviço e dizer a sua localização\n",
    "    O usuário pediu: \"{servico}\".\n",
    "    Base de dados (profissionais filtrados):\n",
    "    {profissionais}\n",
    "\n",
    "    Formate a resposta de forma amigável, listando os nomes, especialidades, notas\n",
    "    e bairros, recomendando os melhores.\n",
    "    \"\"\"\n",
    "    resposta = client.responses.create(\n",
    "        model=\"gpt-4.1-mini\",\n",
    "        input=prompt\n",
    "    )\n",
    "    return resposta.output_text"
   ]
  },
  {
   "cell_type": "code",
   "execution_count": 5,
   "id": "71d002e1",
   "metadata": {},
   "outputs": [
    {
     "ename": "UndefinedColumn",
     "evalue": "ERRO:  não existe a coluna en.cidade\nLINE 7:             en.cidade\n                    ^\nHINT:  Talvez você queira fazer referência à coluna \"en.id_cidade\".\n",
     "output_type": "error",
     "traceback": [
      "\u001b[1;31m---------------------------------------------------------------------------\u001b[0m",
      "\u001b[1;31mUndefinedColumn\u001b[0m                           Traceback (most recent call last)",
      "Cell \u001b[1;32mIn[5], line 4\u001b[0m\n\u001b[0;32m      2\u001b[0m \u001b[38;5;28;01mif\u001b[39;00m \u001b[38;5;18m__name__\u001b[39m \u001b[38;5;241m==\u001b[39m \u001b[38;5;124m\"\u001b[39m\u001b[38;5;124m__main__\u001b[39m\u001b[38;5;124m\"\u001b[39m:\n\u001b[0;32m      3\u001b[0m     servico_desejado \u001b[38;5;241m=\u001b[39m \u001b[38;5;28minput\u001b[39m(\u001b[38;5;124m\"\u001b[39m\u001b[38;5;124mDigite o serviço desejado (ex: eletricista, pintor): \u001b[39m\u001b[38;5;124m\"\u001b[39m)\n\u001b[1;32m----> 4\u001b[0m     profissionais \u001b[38;5;241m=\u001b[39m \u001b[43mbuscar_profissionais\u001b[49m\u001b[43m(\u001b[49m\u001b[43mservico_desejado\u001b[49m\u001b[43m)\u001b[49m\n\u001b[0;32m      6\u001b[0m     \u001b[38;5;28;01mif\u001b[39;00m profissionais:\n\u001b[0;32m      7\u001b[0m         resposta_llm \u001b[38;5;241m=\u001b[39m consultar_llm(servico_desejado, profissionais)\n",
      "Cell \u001b[1;32mIn[4], line 32\u001b[0m, in \u001b[0;36mbuscar_profissionais\u001b[1;34m(servico, limite)\u001b[0m\n\u001b[0;32m     30\u001b[0m conn \u001b[38;5;241m=\u001b[39m conectar_banco()\n\u001b[0;32m     31\u001b[0m cur \u001b[38;5;241m=\u001b[39m conn\u001b[38;5;241m.\u001b[39mcursor()\n\u001b[1;32m---> 32\u001b[0m \u001b[43mcur\u001b[49m\u001b[38;5;241;43m.\u001b[39;49m\u001b[43mexecute\u001b[49m\u001b[43m(\u001b[49m\u001b[43mquery\u001b[49m\u001b[43m,\u001b[49m\u001b[43m \u001b[49m\u001b[43m(\u001b[49m\u001b[38;5;124;43mf\u001b[39;49m\u001b[38;5;124;43m\"\u001b[39;49m\u001b[38;5;124;43m%\u001b[39;49m\u001b[38;5;132;43;01m{\u001b[39;49;00m\u001b[43mservico\u001b[49m\u001b[38;5;132;43;01m}\u001b[39;49;00m\u001b[38;5;124;43m%\u001b[39;49m\u001b[38;5;124;43m\"\u001b[39;49m\u001b[43m,\u001b[49m\u001b[43m \u001b[49m\u001b[43mlimite\u001b[49m\u001b[43m)\u001b[49m\u001b[43m)\u001b[49m\n\u001b[0;32m     33\u001b[0m dados \u001b[38;5;241m=\u001b[39m cur\u001b[38;5;241m.\u001b[39mfetchall()\n\u001b[0;32m     34\u001b[0m colunas \u001b[38;5;241m=\u001b[39m [desc[\u001b[38;5;241m0\u001b[39m] \u001b[38;5;28;01mfor\u001b[39;00m desc \u001b[38;5;129;01min\u001b[39;00m cur\u001b[38;5;241m.\u001b[39mdescription]\n",
      "\u001b[1;31mUndefinedColumn\u001b[0m: ERRO:  não existe a coluna en.cidade\nLINE 7:             en.cidade\n                    ^\nHINT:  Talvez você queira fazer referência à coluna \"en.id_cidade\".\n"
     ]
    }
   ],
   "source": [
    "# --- FLUXO PRINCIPAL ---\n",
    "if __name__ == \"__main__\":\n",
    "    servico_desejado = input(\"Digite o serviço desejado (ex: eletricista, pintor): \")\n",
    "    profissionais = buscar_profissionais(servico_desejado)\n",
    "\n",
    "    if profissionais:\n",
    "        resposta_llm = consultar_llm(servico_desejado, profissionais)\n",
    "        print(\"\\n--- Recomendações ---\")\n",
    "        print(resposta_llm)\n",
    "    else:\n",
    "        print(\"Nenhum profissional encontrado para esse serviço.\")"
   ]
  }
 ],
 "metadata": {
  "kernelspec": {
   "display_name": ".venv",
   "language": "python",
   "name": "python3"
  },
  "language_info": {
   "codemirror_mode": {
    "name": "ipython",
    "version": 3
   },
   "file_extension": ".py",
   "mimetype": "text/x-python",
   "name": "python",
   "nbconvert_exporter": "python",
   "pygments_lexer": "ipython3",
   "version": "3.10.0"
  }
 },
 "nbformat": 4,
 "nbformat_minor": 5
}
